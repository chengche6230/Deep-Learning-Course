{
  "cells": [
    {
      "cell_type": "markdown",
      "metadata": {
        "id": "RyDUpq9QgYhp"
      },
      "source": [
        "# Assignment"
      ]
    },
    {
      "cell_type": "markdown",
      "metadata": {
        "id": "O2i2Kp-8gYhu"
      },
      "source": [
        "## Sentiment Analysis"
      ]
    },
    {
      "cell_type": "code",
      "execution_count": null,
      "metadata": {
        "id": "dxgMWVxygYhv"
      },
      "outputs": [],
      "source": [
        "import tensorflow as tf\n",
        "import pandas as pd\n",
        "import re\n",
        "import numpy as np\n",
        "import os\n",
        "import time\n",
        "from sklearn.model_selection import train_test_split"
      ]
    },
    {
      "cell_type": "code",
      "execution_count": null,
      "metadata": {
        "colab": {
          "base_uri": "https://localhost:8080/"
        },
        "id": "zeV6-DhCgYhw",
        "outputId": "3d765a57-8470-4386-b853-500182ec90ce"
      },
      "outputs": [
        {
          "name": "stdout",
          "output_type": "stream",
          "text": [
            "1 Physical GPUs, 1 Logical GPUs\n"
          ]
        }
      ],
      "source": [
        "gpus = tf.config.experimental.list_physical_devices('GPU')\n",
        "if gpus:\n",
        "    try:\n",
        "        # Restrict TensorFlow to only use the first GPU\n",
        "        tf.config.experimental.set_visible_devices(gpus[0], 'GPU')\n",
        "\n",
        "        # Currently, memory growth needs to be the same across GPUs\n",
        "        for gpu in gpus:\n",
        "            tf.config.experimental.set_memory_growth(gpu, True)\n",
        "        logical_gpus = tf.config.experimental.list_logical_devices('GPU')\n",
        "        print(len(gpus), \"Physical GPUs,\", len(logical_gpus), \"Logical GPUs\")\n",
        "    except RuntimeError as e:\n",
        "        # Memory growth must be set before GPUs have been initialized\n",
        "        print(e)"
      ]
    },
    {
      "cell_type": "code",
      "execution_count": null,
      "metadata": {
        "id": "bFDHMZKIgYhy"
      },
      "outputs": [],
      "source": [
        "# load the dataset\n",
        "movie_reviews = pd.read_csv(\"./dataset/IMDB Dataset.csv\")"
      ]
    },
    {
      "cell_type": "markdown",
      "metadata": {
        "id": "jDTuCIjegYhy"
      },
      "source": [
        "## Data preprocessing"
      ]
    },
    {
      "cell_type": "code",
      "execution_count": null,
      "metadata": {
        "colab": {
          "base_uri": "https://localhost:8080/"
        },
        "id": "ps93x-wwgYhz",
        "outputId": "f83e9922-9ece-4e34-fc79-207c14cb2bc7"
      },
      "outputs": [
        {
          "data": {
            "text/plain": [
              "False"
            ]
          },
          "execution_count": 5,
          "metadata": {},
          "output_type": "execute_result"
        }
      ],
      "source": [
        "# check if there is any null value in the dataset\n",
        "movie_reviews.isnull().values.any()"
      ]
    },
    {
      "cell_type": "code",
      "execution_count": null,
      "metadata": {
        "colab": {
          "base_uri": "https://localhost:8080/"
        },
        "id": "UAglvfWXgYh0",
        "outputId": "8e941e2d-4c2d-4059-c2fd-914066c113b1"
      },
      "outputs": [
        {
          "data": {
            "text/plain": [
              "(50000, 2)"
            ]
          },
          "execution_count": 6,
          "metadata": {},
          "output_type": "execute_result"
        }
      ],
      "source": [
        "# show the size of the dataset\n",
        "movie_reviews.shape"
      ]
    },
    {
      "cell_type": "code",
      "execution_count": null,
      "metadata": {
        "colab": {
          "base_uri": "https://localhost:8080/",
          "height": 204
        },
        "id": "cBXBrGkAgYh1",
        "outputId": "bcd2b939-69b3-46bf-80e4-f21329119c15"
      },
      "outputs": [
        {
          "data": {
            "text/html": [
              "<div>\n",
              "<style scoped>\n",
              "    .dataframe tbody tr th:only-of-type {\n",
              "        vertical-align: middle;\n",
              "    }\n",
              "\n",
              "    .dataframe tbody tr th {\n",
              "        vertical-align: top;\n",
              "    }\n",
              "\n",
              "    .dataframe thead th {\n",
              "        text-align: right;\n",
              "    }\n",
              "</style>\n",
              "<table border=\"1\" class=\"dataframe\">\n",
              "  <thead>\n",
              "    <tr style=\"text-align: right;\">\n",
              "      <th></th>\n",
              "      <th>review</th>\n",
              "      <th>sentiment</th>\n",
              "    </tr>\n",
              "  </thead>\n",
              "  <tbody>\n",
              "    <tr>\n",
              "      <th>0</th>\n",
              "      <td>One of the other reviewers has mentioned that ...</td>\n",
              "      <td>positive</td>\n",
              "    </tr>\n",
              "    <tr>\n",
              "      <th>1</th>\n",
              "      <td>A wonderful little production. &lt;br /&gt;&lt;br /&gt;The...</td>\n",
              "      <td>positive</td>\n",
              "    </tr>\n",
              "    <tr>\n",
              "      <th>2</th>\n",
              "      <td>I thought this was a wonderful way to spend ti...</td>\n",
              "      <td>positive</td>\n",
              "    </tr>\n",
              "    <tr>\n",
              "      <th>3</th>\n",
              "      <td>Basically there's a family where a little boy ...</td>\n",
              "      <td>negative</td>\n",
              "    </tr>\n",
              "    <tr>\n",
              "      <th>4</th>\n",
              "      <td>Petter Mattei's \"Love in the Time of Money\" is...</td>\n",
              "      <td>positive</td>\n",
              "    </tr>\n",
              "  </tbody>\n",
              "</table>\n",
              "</div>"
            ],
            "text/plain": [
              "                                              review sentiment\n",
              "0  One of the other reviewers has mentioned that ...  positive\n",
              "1  A wonderful little production. <br /><br />The...  positive\n",
              "2  I thought this was a wonderful way to spend ti...  positive\n",
              "3  Basically there's a family where a little boy ...  negative\n",
              "4  Petter Mattei's \"Love in the Time of Money\" is...  positive"
            ]
          },
          "execution_count": 7,
          "metadata": {},
          "output_type": "execute_result"
        }
      ],
      "source": [
        "# show the first five data in the dataset\n",
        "movie_reviews.head()"
      ]
    },
    {
      "cell_type": "code",
      "execution_count": null,
      "metadata": {
        "colab": {
          "base_uri": "https://localhost:8080/",
          "height": 120
        },
        "id": "B0mtJ4c5gYh2",
        "outputId": "95eb4c98-b5b0-462f-d93a-22941da780db"
      },
      "outputs": [
        {
          "data": {
            "application/vnd.google.colaboratory.intrinsic+json": {
              "type": "string"
            },
            "text/plain": [
              "\"One of the other reviewers has mentioned that after watching just 1 Oz episode you'll be hooked. They are right, as this is exactly what happened with me.<br /><br />The first thing that struck me about Oz was its brutality and unflinching scenes of violence, which set in right from the word GO. Trust me, this is not a show for the faint hearted or timid. This show pulls no punches with regards to drugs, sex or violence. Its is hardcore, in the classic use of the word.<br /><br />It is called OZ as that is the nickname given to the Oswald Maximum Security State Penitentary. It focuses mainly on Emerald City, an experimental section of the prison where all the cells have glass fronts and face inwards, so privacy is not high on the agenda. Em City is home to many..Aryans, Muslims, gangstas, Latinos, Christians, Italians, Irish and more....so scuffles, death stares, dodgy dealings and shady agreements are never far away.<br /><br />I would say the main appeal of the show is due to the fact that it goes where other shows wouldn't dare. Forget pretty pictures painted for mainstream audiences, forget charm, forget romance...OZ doesn't mess around. The first episode I ever saw struck me as so nasty it was surreal, I couldn't say I was ready for it, but as I watched more, I developed a taste for Oz, and got accustomed to the high levels of graphic violence. Not just violence, but injustice (crooked guards who'll be sold out for a nickel, inmates who'll kill on order and get away with it, well mannered, middle class inmates being turned into prison bitches due to their lack of street skills or prison experience) Watching Oz, you may become comfortable with what is uncomfortable viewing....thats if you can get in touch with your darker side.\""
            ]
          },
          "execution_count": 8,
          "metadata": {},
          "output_type": "execute_result"
        }
      ],
      "source": [
        "movie_reviews[\"review\"][0]"
      ]
    },
    {
      "cell_type": "code",
      "execution_count": null,
      "metadata": {
        "id": "zpHt-XuHgYh3"
      },
      "outputs": [],
      "source": [
        "TAG_RE = re.compile(r'<[^>]+>')\n",
        "\n",
        "def remove_tags(text):\n",
        "    return TAG_RE.sub('', text)\n",
        "\n",
        "def preprocess_text(sen):\n",
        "    # Removing html tags\n",
        "    sentence = remove_tags(sen)\n",
        "\n",
        "    # Remove punctuations and numbers\n",
        "    sentence = re.sub('[^a-zA-Z]', ' ', sentence)\n",
        "\n",
        "    # Single character removal\n",
        "    sentence = re.sub(r\"\\s+[a-zA-Z]\\s+\", ' ', sentence)\n",
        "\n",
        "    # Removing multiple spaces\n",
        "    sentence = re.sub(r'\\s+', ' ', sentence)\n",
        "\n",
        "    return sentence"
      ]
    },
    {
      "cell_type": "code",
      "execution_count": null,
      "metadata": {
        "id": "fuerJ0hRgYh3"
      },
      "outputs": [],
      "source": [
        "X = []\n",
        "sentences = list(movie_reviews['review'])\n",
        "for sen in sentences:\n",
        "    X.append(preprocess_text(sen))\n",
        "\n",
        "# replace the positive with 1, replace the negative with 0\n",
        "y = movie_reviews['sentiment']\n",
        "y = np.array(list(map(lambda x: 1 if x == \"positive\" else 0, y)))"
      ]
    },
    {
      "cell_type": "code",
      "execution_count": null,
      "metadata": {
        "colab": {
          "base_uri": "https://localhost:8080/"
        },
        "id": "LUCw6aGEgYh3",
        "outputId": "9d35b4c9-ecd2-4d68-cf8b-81e71eba8736"
      },
      "outputs": [
        {
          "name": "stdout",
          "output_type": "stream",
          "text": [
            "# training data: 40000\n",
            "# test data: 10000\n"
          ]
        }
      ],
      "source": [
        "# Split the training dataset and test dataset\n",
        "X_train, X_test, y_train, y_test = train_test_split(X, y, test_size=0.20, random_state=42)\n",
        "print(\"# training data: {:d}\\n# test data: {:d}\".format(len(X_train), len(X_test)))"
      ]
    },
    {
      "cell_type": "code",
      "execution_count": null,
      "metadata": {
        "id": "VLn5ZvDDgYh4"
      },
      "outputs": [],
      "source": [
        "tokenizer = tf.keras.preprocessing.text.Tokenizer(num_words=10000)\n",
        "tokenizer.fit_on_texts(X_train)\n",
        "\n",
        "X_train = tokenizer.texts_to_sequences(X_train)\n",
        "X_test = tokenizer.texts_to_sequences(X_test)\n",
        "\n",
        "max_len = 100\n",
        "# padding sentences to the same length\n",
        "X_train = tf.keras.preprocessing.sequence.pad_sequences(X_train, padding='post', maxlen=max_len)\n",
        "X_test = tf.keras.preprocessing.sequence.pad_sequences(X_test, padding='post', maxlen=max_len)"
      ]
    },
    {
      "cell_type": "code",
      "execution_count": null,
      "metadata": {
        "colab": {
          "base_uri": "https://localhost:8080/"
        },
        "id": "tMRG7QLvgYh4",
        "outputId": "5f5ed1da-1129-4e77-b1e4-1610b77e6586"
      },
      "outputs": [
        {
          "data": {
            "text/plain": [
              "array([   1,  296,  140, 2854,    2,  405,  614,    1,  263,    5, 3514,\n",
              "        977,    4,   25,   37,   11, 1237,  215,   62,    2,   35,    5,\n",
              "         27,  217,   24,  189, 1430,    7, 1068,   15, 4868,   81,    1,\n",
              "        221,   63,  351,   64,   52,   24,    4, 3547,   13,    6,   19,\n",
              "        192,    4, 8148,  859, 3430, 1720,   17,   23,    4,  158,  194,\n",
              "        175,  106,    9, 1604,  461,   71,  218,    4,  321,    2, 3431,\n",
              "         31,   20,   47,   68, 1844, 4668,   11,    6, 1365,    8,   16,\n",
              "          5, 3475, 1990,   14,   59,    1, 2380,  460,  518,    2,  170,\n",
              "       2524, 2698, 1745,    4,  573,    6,   33,    1, 3750,  198,  345,\n",
              "       3812], dtype=int32)"
            ]
          },
          "execution_count": 41,
          "metadata": {},
          "output_type": "execute_result"
        }
      ],
      "source": [
        "X_train[0]"
      ]
    },
    {
      "cell_type": "code",
      "execution_count": null,
      "metadata": {
        "colab": {
          "base_uri": "https://localhost:8080/"
        },
        "id": "n6iSEBQ8gYh5",
        "outputId": "f4cb0d8d-856c-4388-8762-6f51ece98163"
      },
      "outputs": [
        {
          "data": {
            "text/plain": [
              "(TensorShape([128, 100]), TensorShape([128]))"
            ]
          },
          "execution_count": 57,
          "metadata": {},
          "output_type": "execute_result"
        }
      ],
      "source": [
        "BUFFER_SIZE = len(X_train)\n",
        "BATCH_SIZE = 128\n",
        "steps_per_epoch = len(X_train)//BATCH_SIZE\n",
        "embedding_dim = 256\n",
        "units = 1024\n",
        "# only reserve 10000 words\n",
        "vocab_size = 10000\n",
        "\n",
        "dataset = tf.data.Dataset.from_tensor_slices((X_train, y_train)).shuffle(BUFFER_SIZE)\n",
        "dataset = dataset.batch(BATCH_SIZE, drop_remainder=True)\n",
        "test_dataset = tf.data.Dataset.from_tensor_slices((X_test, y_test))\n",
        "test_dataset = test_dataset.batch(BATCH_SIZE, drop_remainder=False)\n",
        "\n",
        "example_input_batch, example_target_batch = next(iter(dataset))\n",
        "example_input_batch.shape, example_target_batch.shape"
      ]
    },
    {
      "cell_type": "markdown",
      "metadata": {
        "id": "eS__0vQpgYh6"
      },
      "source": [
        "## Encoder"
      ]
    },
    {
      "cell_type": "code",
      "execution_count": null,
      "metadata": {
        "id": "QAJGbqvGgYh6"
      },
      "outputs": [],
      "source": [
        "class Encoder(tf.keras.Model):\n",
        "    def __init__(self, vocab_size, embedding_dim, enc_units, batch_sz):\n",
        "        # vacab_size=10000, embedding_dim=256 enc_units=1024 batch_sz=64\n",
        "        super(Encoder, self).__init__()\n",
        "        self.batch_sz = batch_sz\n",
        "        self.enc_units = enc_units\n",
        "        self.embedding = tf.keras.layers.Embedding(vocab_size, embedding_dim)\n",
        "        self.gru = tf.keras.layers.GRU(self.enc_units,\n",
        "                                       return_sequences=True,\n",
        "                                       return_state=True,\n",
        "                                       recurrent_activation='sigmoid',\n",
        "                                       recurrent_initializer='glorot_uniform')\n",
        "\n",
        "    def call(self, x, hidden):\n",
        "        # x is the training data with shape == (batch_size，max_length)  -> (128, 100)\n",
        "        # which means there are batch_size sentences in one batch, the length of each sentence is max_length\n",
        "        # hidden state shape == (batch_size, units) -> (128, 1024)\n",
        "        # after embedding, x shape == (batch_size, max_length, embedding_dim) -> (128, 100, 256)\n",
        "        x = self.embedding(x)\n",
        "        \n",
        "        # output contains the state(in GRU, the hidden state and the output are same) from all timestamps,\n",
        "        # output shape == (batch_size, max_length, units) -> (128, 100, 1024)\n",
        "        # state is the hidden state of the last timestamp, shape == (batch_size, units) -> (128, 1024)\n",
        "        output, state = self.gru(x, initial_state=hidden)\n",
        "        \n",
        "        return output, state\n",
        "\n",
        "    def initialize_hidden_state(self):\n",
        "        # initialize the first state of the gru,  shape == (batch_size, units) -> (128, 1024)\n",
        "        return tf.zeros((self.batch_sz, self.enc_units))"
      ]
    },
    {
      "cell_type": "code",
      "execution_count": null,
      "metadata": {
        "colab": {
          "base_uri": "https://localhost:8080/"
        },
        "id": "C3Qqym7ygYh7",
        "outputId": "b287c3b1-e79c-459d-f47c-6db9dee7afe3"
      },
      "outputs": [
        {
          "name": "stdout",
          "output_type": "stream",
          "text": [
            "Encoder output shape: (batch size, sequence length, units) (128, 100, 1024)\n",
            "Encoder Hidden state shape: (batch size, units) (128, 1024)\n",
            "tf.Tensor([ True  True  True ...  True  True  True], shape=(1024,), dtype=bool)\n"
          ]
        }
      ],
      "source": [
        "encoder = Encoder(vocab_size, embedding_dim, units, BATCH_SIZE)\n",
        "\n",
        "# sample input\n",
        "sample_hidden = encoder.initialize_hidden_state()\n",
        "sample_output, sample_hidden = encoder(example_input_batch, sample_hidden)\n",
        "print('Encoder output shape: (batch size, sequence length, units) {}'.format(sample_output.shape))\n",
        "print('Encoder Hidden state shape: (batch size, units) {}'.format(sample_hidden.shape))\n",
        "# the output and the hidden state of GRU is equal\n",
        "print(sample_output[-1, -1, :] == sample_hidden[-1, :])"
      ]
    },
    {
      "cell_type": "markdown",
      "metadata": {
        "id": "OqPTDAH8gYh8"
      },
      "source": [
        "## Attention"
      ]
    },
    {
      "cell_type": "code",
      "execution_count": null,
      "metadata": {
        "id": "6BNA0Vs3gYh8"
      },
      "outputs": [],
      "source": [
        "class BahdanauAttention(tf.keras.Model):\n",
        "    def __init__(self, units):\n",
        "        super(BahdanauAttention, self).__init__()\n",
        "        self.W1 = tf.keras.layers.Dense(units)\n",
        "        self.W2 = tf.keras.layers.Dense(units)\n",
        "        self.V = tf.keras.layers.Dense(1)\n",
        "\n",
        "    def call(self, query, values):\n",
        "        # query shape == (batch_size, hidden size)\n",
        "        # hidden_with_time_axis shape == (batch_size, 1, hidden size)\n",
        "        # we are doing this to perform addition to calculate the score\n",
        "        hidden_with_time_axis = tf.expand_dims(query, 1)\n",
        "\n",
        "        # score shape == (batch_size, max_length, 1)\n",
        "        # we get 1 at the last axis because we are applying score to self.V\n",
        "        # the shape of the tensor before applying self.V is (batch_size, max_length, units)\n",
        "        score = self.V(tf.nn.tanh(self.W1(values) + self.W2(hidden_with_time_axis)))\n",
        "\n",
        "        # attention_weights shape == (batch_size, max_length, 1)\n",
        "        attention_weights = tf.nn.softmax(score, axis=1)\n",
        "\n",
        "        # context_vector shape == (batch_size, max_length, hidden_size)\n",
        "        context_vector = attention_weights * values\n",
        "        \n",
        "        # context_vector shape after sum == (batch_size, hidden_size)\n",
        "        context_vector = tf.reduce_sum(context_vector, axis=1)\n",
        "\n",
        "        return context_vector, attention_weights"
      ]
    },
    {
      "cell_type": "code",
      "execution_count": 91,
      "metadata": {
        "id": "-dcgB3m5gYh8"
      },
      "outputs": [],
      "source": [
        "class LuongAttention(tf.keras.Model):\n",
        "    def __init__(self, units):\n",
        "        super(LuongAttention, self).__init__()\n",
        "        self.W = tf.Variable(tf.random.uniform([BATCH_SIZE, units, 1]), trainable=True)\n",
        "        self.V = tf.keras.layers.Dense(1)\n",
        "\n",
        "    def call(self, query, values):\n",
        "        # query shape == (batch_size, hidden size)\n",
        "        q = tf.expand_dims(query, 1)\n",
        "\n",
        "        # score shape == (batch_size, max_length, 1)\n",
        "        score = self.V(tf.matmul(tf.matmul(values, self.W), q))\n",
        "\n",
        "        # attention_weights shape == (batch_size, max_length, 1)\n",
        "        attention_weights = tf.nn.softmax(score, axis=1)\n",
        "\n",
        "        # context_vector shape == (batch_size, max_length, hidden_size)\n",
        "        context_vector = attention_weights * values\n",
        "        \n",
        "        # context_vector shape after sum == (batch_size, hidden_size)\n",
        "        context_vector = tf.reduce_sum(context_vector, axis=1)\n",
        "\n",
        "        return context_vector, attention_weights"
      ]
    },
    {
      "cell_type": "markdown",
      "metadata": {
        "id": "5edJUlJsgYh9"
      },
      "source": [
        "## Decoder"
      ]
    },
    {
      "cell_type": "code",
      "execution_count": 92,
      "metadata": {
        "id": "fp523RN2gYh9"
      },
      "outputs": [],
      "source": [
        "class Decoder(tf.keras.Model):\n",
        "    def __init__(self, dec_units, batch_sz):\n",
        "        super(Decoder, self).__init__()\n",
        "        self.batch_sz = batch_sz\n",
        "        self.dec_units = dec_units\n",
        "        \n",
        "        # pass through four fully connected layers, the model will return \n",
        "        # the probability of the positivity of the sentence\n",
        "        self.fc_1 = tf.keras.layers.Dense(2048)\n",
        "        self.fc_2 = tf.keras.layers.Dense(512)\n",
        "        self.fc_3 = tf.keras.layers.Dense(64)\n",
        "        self.fc_4 = tf.keras.layers.Dense(1)\n",
        "\n",
        "        # used for attention\n",
        "        self.attention = LuongAttention(self.dec_units)\n",
        "\n",
        "    def call(self, hidden, enc_output):\n",
        "        context_vector, attention_weights = self.attention(hidden, enc_output)\n",
        "        output = self.fc_1(context_vector)\n",
        "        output = self.fc_2(output)\n",
        "        output = self.fc_3(output)\n",
        "        output = self.fc_4(output)\n",
        "\n",
        "        return output, attention_weights"
      ]
    },
    {
      "cell_type": "code",
      "execution_count": 93,
      "metadata": {
        "colab": {
          "base_uri": "https://localhost:8080/"
        },
        "id": "n4wYMjtpgYh9",
        "outputId": "667d58c1-2062-487d-dbd6-839f076d0b99"
      },
      "outputs": [
        {
          "name": "stdout",
          "output_type": "stream",
          "text": [
            "Decoder output shape: (batch_size, vocab size) (128, 1)\n"
          ]
        }
      ],
      "source": [
        "decoder = Decoder(units, BATCH_SIZE)\n",
        "sample_decoder_output, _ = decoder(sample_hidden, sample_output)\n",
        "print('Decoder output shape: (batch_size, vocab size) {}'.format(sample_decoder_output.shape))"
      ]
    },
    {
      "cell_type": "markdown",
      "metadata": {
        "id": "fVEuOwaXgYh-"
      },
      "source": [
        "## Training"
      ]
    },
    {
      "cell_type": "code",
      "execution_count": 94,
      "metadata": {
        "id": "K1r55n-agYh-"
      },
      "outputs": [],
      "source": [
        "optimizer = tf.keras.optimizers.Adam()\n",
        "loss_object = tf.keras.losses.BinaryCrossentropy(from_logits=True)\n",
        "\n",
        "def loss_function(real, pred):\n",
        "    loss_ = loss_object(real, pred)\n",
        "    return tf.reduce_mean(loss_)"
      ]
    },
    {
      "cell_type": "code",
      "execution_count": 95,
      "metadata": {
        "id": "XTfE3xMIgYh-"
      },
      "outputs": [],
      "source": [
        "checkpoint_dir = './checkpoints/sentiment-analysis'\n",
        "checkpoint_prefix = os.path.join(checkpoint_dir, \"ckpt\")\n",
        "checkpoint = tf.train.Checkpoint(optimizer=optimizer,\n",
        "                                 encoder=encoder,\n",
        "                                 decoder=decoder)"
      ]
    },
    {
      "cell_type": "code",
      "execution_count": 96,
      "metadata": {
        "id": "smJ8jFlVgYh-"
      },
      "outputs": [],
      "source": [
        "@tf.function\n",
        "def train_step(inp, targ, enc_hidden):\n",
        "    loss = 0\n",
        "\n",
        "    with tf.GradientTape() as tape:\n",
        "        enc_output, enc_hidden = encoder(inp, enc_hidden)\n",
        "\n",
        "        # passing enc_output to the decoder\n",
        "        predictions, _ = decoder(enc_hidden, enc_output)\n",
        "\n",
        "        loss = loss_function(targ, predictions)\n",
        "\n",
        "    # collect all trainable variables\n",
        "    variables = encoder.trainable_variables + decoder.trainable_variables\n",
        "\n",
        "    # calculate the gradients for the whole variables\n",
        "    gradients = tape.gradient(loss, variables)\n",
        "\n",
        "    # apply the gradients on the variables\n",
        "    optimizer.apply_gradients(zip(gradients, variables))\n",
        "\n",
        "    return loss"
      ]
    },
    {
      "cell_type": "code",
      "execution_count": 97,
      "metadata": {
        "colab": {
          "base_uri": "https://localhost:8080/"
        },
        "id": "WsTjl0whgYh_",
        "outputId": "ad9224e8-9a37-4af1-965a-80e2c3b32642"
      },
      "outputs": [
        {
          "name": "stdout",
          "output_type": "stream",
          "text": [
            "Epoch 1 Batch 0 Loss 0.7034\n",
            "Epoch 1 Batch 100 Loss 0.0344\n",
            "Epoch 1 Batch 200 Loss 0.0243\n",
            "Epoch 1 Batch 300 Loss 0.1202\n",
            "Epoch 1 Loss 0.0761\n",
            "Time taken for 1 epoch 67.58464026451111 sec\n",
            "\n",
            "Epoch 2 Batch 0 Loss 0.0016\n",
            "Epoch 2 Batch 100 Loss 0.0218\n",
            "Epoch 2 Batch 200 Loss 0.0088\n",
            "Epoch 2 Batch 300 Loss 0.0246\n",
            "Epoch 2 Loss 0.0462\n",
            "Time taken for 1 epoch 66.43005537986755 sec\n",
            "\n",
            "Epoch 3 Batch 0 Loss 0.0178\n",
            "Epoch 3 Batch 100 Loss 0.0183\n",
            "Epoch 3 Batch 200 Loss 0.0465\n",
            "Epoch 3 Batch 300 Loss 0.0351\n",
            "Epoch 3 Loss 0.0198\n",
            "Time taken for 1 epoch 65.66742968559265 sec\n",
            "\n",
            "Epoch 4 Batch 0 Loss 0.0127\n",
            "Epoch 4 Batch 100 Loss 0.0086\n",
            "Epoch 4 Batch 200 Loss 0.0045\n",
            "Epoch 4 Batch 300 Loss 0.0091\n",
            "Epoch 4 Loss 0.0211\n",
            "Time taken for 1 epoch 67.04151248931885 sec\n",
            "\n",
            "Epoch 5 Batch 0 Loss 0.0162\n",
            "Epoch 5 Batch 100 Loss 0.0039\n",
            "Epoch 5 Batch 200 Loss 0.0027\n",
            "Epoch 5 Batch 300 Loss 0.0074\n",
            "Epoch 5 Loss 0.0152\n",
            "Time taken for 1 epoch 65.25058007240295 sec\n",
            "\n",
            "Epoch 6 Batch 0 Loss 0.0075\n",
            "Epoch 6 Batch 100 Loss 0.0010\n",
            "Epoch 6 Batch 200 Loss 0.0005\n",
            "Epoch 6 Batch 300 Loss 0.0223\n",
            "Epoch 6 Loss 0.0100\n",
            "Time taken for 1 epoch 65.15938830375671 sec\n",
            "\n",
            "Epoch 7 Batch 0 Loss 0.0004\n",
            "Epoch 7 Batch 100 Loss 0.0037\n",
            "Epoch 7 Batch 200 Loss 0.0014\n",
            "Epoch 7 Batch 300 Loss 0.0408\n",
            "Epoch 7 Loss 0.0124\n",
            "Time taken for 1 epoch 64.798983335495 sec\n",
            "\n",
            "Epoch 8 Batch 0 Loss 0.0274\n",
            "Epoch 8 Batch 100 Loss 0.0307\n",
            "Epoch 8 Batch 200 Loss 0.0102\n",
            "Epoch 8 Batch 300 Loss 0.0430\n",
            "Epoch 8 Loss 0.0387\n",
            "Time taken for 1 epoch 65.32769989967346 sec\n",
            "\n",
            "Epoch 9 Batch 0 Loss 0.0063\n",
            "Epoch 9 Batch 100 Loss 0.0040\n",
            "Epoch 9 Batch 200 Loss 0.0003\n",
            "Epoch 9 Batch 300 Loss 0.0116\n",
            "Epoch 9 Loss 0.0092\n",
            "Time taken for 1 epoch 64.63089656829834 sec\n",
            "\n",
            "Epoch 10 Batch 0 Loss 0.0044\n",
            "Epoch 10 Batch 100 Loss 0.0023\n",
            "Epoch 10 Batch 200 Loss 0.0022\n",
            "Epoch 10 Batch 300 Loss 0.0006\n",
            "Epoch 10 Loss 0.0046\n",
            "Time taken for 1 epoch 64.84369206428528 sec\n",
            "\n"
          ]
        }
      ],
      "source": [
        "# set the epochs for training\n",
        "EPOCHS = 10\n",
        "\n",
        "for epoch in range(EPOCHS):\n",
        "    start = time.time()\n",
        "\n",
        "    # get the initial hidden state of gru\n",
        "    enc_hidden = encoder.initialize_hidden_state()\n",
        "    total_loss = 0\n",
        "\n",
        "    for (batch, (inp, targ)) in enumerate(dataset.take(steps_per_epoch)):\n",
        "        batch_loss = train_step(inp, targ, enc_hidden)\n",
        "        total_loss += batch_loss\n",
        "\n",
        "        if batch % 100 == 0:\n",
        "            print('Epoch {} Batch {} Loss {:.4f}'.format(epoch + 1,\n",
        "                                                         batch,\n",
        "                                                         batch_loss.numpy()))\n",
        "\n",
        "    # saving (checkpoint) the model every 2 epochs\n",
        "    if (epoch + 1) % 2 == 0:\n",
        "        checkpoint.save(file_prefix=checkpoint_prefix)\n",
        "\n",
        "    print('Epoch {} Loss {:.4f}'.format(epoch + 1,\n",
        "                                        total_loss / steps_per_epoch))\n",
        "    print('Time taken for 1 epoch {} sec\\n'.format(time.time() - start))"
      ]
    },
    {
      "cell_type": "code",
      "execution_count": 98,
      "metadata": {
        "colab": {
          "base_uri": "https://localhost:8080/"
        },
        "id": "i0HLkVzjgYh_",
        "outputId": "8965b3e9-4146-4a9f-9af7-8852e2e3081a"
      },
      "outputs": [
        {
          "name": "stdout",
          "output_type": "stream",
          "text": [
            "/content/drive/MyDrive/Colab Notebooks/checkpoints/ckpt-5\n"
          ]
        },
        {
          "data": {
            "text/plain": [
              "<tensorflow.python.training.tracking.util.CheckpointLoadStatus at 0x7fab4fc977d0>"
            ]
          },
          "execution_count": 98,
          "metadata": {},
          "output_type": "execute_result"
        }
      ],
      "source": [
        "print(tf.train.latest_checkpoint(checkpoint_dir))\n",
        "# restoring the latest checkpoint in checkpoint_dir\n",
        "checkpoint.restore(tf.train.latest_checkpoint(checkpoint_dir))"
      ]
    },
    {
      "cell_type": "markdown",
      "metadata": {
        "id": "1QNG0oNqgYh_"
      },
      "source": [
        "## Testing"
      ]
    },
    {
      "cell_type": "code",
      "execution_count": 99,
      "metadata": {
        "id": "olW6l34TgYh_"
      },
      "outputs": [],
      "source": [
        "@tf.function\n",
        "def test_step(inp, enc_hidden):\n",
        "    with tf.GradientTape() as tape:\n",
        "        enc_output, enc_hidden = encoder(inp, enc_hidden)\n",
        "        predictions, attention_weights = decoder(enc_hidden, enc_output)\n",
        "    return predictions, attention_weights"
      ]
    },
    {
      "cell_type": "code",
      "execution_count": 100,
      "metadata": {
        "id": "csmpzYtvgYh_"
      },
      "outputs": [],
      "source": [
        "def evaluate(test_data):\n",
        "    enc_hidden = encoder.initialize_hidden_state()\n",
        "    \n",
        "    for batch, (inp, targ) in enumerate(test_data):\n",
        "        if len(inp) != BATCH_SIZE:\n",
        "            break\n",
        "            enc_hidden = tf.zeros((len(inp), units))\n",
        "        # make prediction\n",
        "        if batch == 0:\n",
        "            predictions, attention_weights = test_step(inp, enc_hidden)\n",
        "            predictions, attention_weights = predictions.numpy(), attention_weights.numpy()\n",
        "        else:\n",
        "            _predictions, _attention_weights = test_step(inp, enc_hidden)\n",
        "            _predictions, _attention_weights = _predictions.numpy(), _attention_weights.numpy()\n",
        "            predictions = np.concatenate((predictions, _predictions))\n",
        "            attention_weights = np.concatenate((attention_weights, _attention_weights))\n",
        "    \n",
        "    predictions = np.squeeze(predictions)\n",
        "    attention_weights = np.squeeze(attention_weights)\n",
        "    predictions[np.where(predictions < 0.5)] = 0\n",
        "    predictions[np.where(predictions >= 0.5)] = 1\n",
        "    return predictions, attention_weights"
      ]
    },
    {
      "cell_type": "code",
      "execution_count": 101,
      "metadata": {
        "id": "0iAsfpFmgYiA"
      },
      "outputs": [],
      "source": [
        "y_pred, attention_weights = evaluate(test_dataset)"
      ]
    },
    {
      "cell_type": "code",
      "execution_count": 102,
      "metadata": {
        "colab": {
          "base_uri": "https://localhost:8080/"
        },
        "id": "96JZWH4FgYiA",
        "outputId": "e2a6054a-a0e4-4a17-8315-4590bfd0fbff"
      },
      "outputs": [
        {
          "name": "stdout",
          "output_type": "stream",
          "text": [
            "Accuracy:  0.8353\n"
          ]
        }
      ],
      "source": [
        "print('Accuracy: ', (y_pred == y_test).sum() / len(y_test))"
      ]
    },
    {
      "cell_type": "markdown",
      "metadata": {
        "id": "tE80lnLsgYiA"
      },
      "source": [
        "## Visualize"
      ]
    },
    {
      "cell_type": "code",
      "execution_count": 103,
      "metadata": {
        "colab": {
          "base_uri": "https://localhost:8080/"
        },
        "id": "71j6dwyHgYiA",
        "outputId": "fe525b06-8a4e-482a-8e77-621c2c54247f"
      },
      "outputs": [
        {
          "name": "stdout",
          "output_type": "stream",
          "text": [
            "y_true: 1\n",
            "y_predict: 0\n",
            "changed it was terrible main event just like every match is in is \u001b[31mterrible\u001b[0m other matches on the card were \u001b[31mrazor\u001b[0m ramon vs ted brothers vs bodies \u001b[31mshawn\u001b[0m michaels vs this was the event where \u001b[31mshawn\u001b[0m named his big monster of body guard vs kid \u001b[31mhart\u001b[0m first takes on then takes on jerry and stuff with the and was always very interesting then destroyed marty undertaker took on giant \u001b[31min\u001b[0m another \u001b[31mterrible\u001b[0m match the smoking and took on bam bam \u001b[31mand\u001b[0m the and the world title against lex this match was boring and it has terrible ending \u001b[31mhowever\u001b[0m it \u001b[31mdeserves\u001b[0m \n",
            "\n",
            "\n",
            "y_true: 1\n",
            "y_predict: 1\n",
            "of subject \u001b[31mmatter\u001b[0m as are and \u001b[31mbroken\u001b[0m in many ways on many many issues happened to see the pilot premiere in \u001b[31mpassing\u001b[0m and just had to keep in after that to see if would ever get the girl after seeing them all on television \u001b[31mwas\u001b[0m delighted to see them available on dvd \u001b[31mhave\u001b[0m to \u001b[31madmit\u001b[0m that it was the only thing that kept \u001b[31mme\u001b[0m sane \u001b[31mwhilst\u001b[0m had to do hour night shift and developed insomnia farscape \u001b[31mwas\u001b[0m the only thing to get me through those extremely long nights do yourself favour watch the pilot and see what mean farscape \u001b[31mcomet\u001b[0m \n",
            "\n",
            "\n",
            "y_true: 0\n",
            "y_predict: 0\n",
            "\u001b[31mdestruction\u001b[0m the first really bad thing is the guy steven \u001b[31mseagal\u001b[0m would have been \u001b[31mbeaten\u001b[0m to pulp by seagal driving but that probably would have ended the whole premise for the movie it seems like they decided to make all kinds of changes in the movie plot so just plan to enjoy the action and do not expect \u001b[31mcoherent\u001b[0m plot turn any sense \u001b[31mof\u001b[0m \u001b[31mlogic\u001b[0m you may have it will your chance of getting \u001b[31mheadache\u001b[0m does give me some hope that steven \u001b[31mseagal\u001b[0m is trying to \u001b[31mmove\u001b[0m \u001b[31mback\u001b[0m towards the type of characters he portrayed in his more popular movies \n",
            "\n",
            "\n",
            "y_true: 1\n",
            "y_predict: 1\n",
            "jane austen would definitely \u001b[31mof\u001b[0m this one \u001b[31mpaltrow\u001b[0m does an awesome job capturing \u001b[31mthe\u001b[0m \u001b[31mattitude\u001b[0m of emma she is funny without being silly yet elegant she puts on very convincing british accent not being british \u001b[31mmyself\u001b[0m maybe \u001b[31mm\u001b[0m not the best judge but she fooled me she was also excellent \u001b[31min\u001b[0m doors \u001b[31msometimes\u001b[0m forget she american also brilliant \u001b[31mare\u001b[0m jeremy northam and sophie thompson and law emma thompson sister and mother as the bates women they nearly steal the show and ms law doesn even have any lines highly recommended \n",
            "\n",
            "\n",
            "y_true: 0\n",
            "y_predict: 0\n",
            "reaches the point where they become obnoxious and simply frustrating touch \u001b[31mfootball\u001b[0m puzzle family and talent shows are not how actual people \u001b[31mbehave\u001b[0m it almost sickening another \u001b[31mbig\u001b[0m \u001b[31mflaw\u001b[0m is the woman carell is supposed to be falling for her in her first scene with steve carell is like \u001b[31mwatching\u001b[0m stroke victim trying to be what imagine is supposed to be unique and original in this woman \u001b[31mcomes\u001b[0m off as \u001b[31mmildly\u001b[0m retarded it \u001b[31mmakes\u001b[0m me think that this movie is taking place on another \u001b[31mplanet\u001b[0m left the theater wondering \u001b[31mwhat\u001b[0m just saw after thinking further don think it was much \n",
            "\n",
            "\n",
            "y_true: 1\n",
            "y_predict: 0\n",
            "the \u001b[31mpace\u001b[0m quick and energetic but most importantly \u001b[31mhe\u001b[0m knows how to make comedy funny he doesn the jokes \u001b[31mand\u001b[0m he understands that funny actors know what they re doing and he allows them to do it but segal goes \u001b[31mstep\u001b[0m further he gives tommy \u001b[31mboy\u001b[0m friendly almost nostalgic tone that both the genuinely and the critics didn like tommy boy shame on them movie doesn have to be super sophisticated or intellectual to be funny \u001b[31mgod\u001b[0m \u001b[31mfarley\u001b[0m and spade were forced to do \u001b[31mmuted\u001b[0m \u001b[31mcomedy\u001b[0m la the office this is \u001b[31mgreat\u001b[0m movie and one of my all time favorites \n",
            "\n",
            "\n",
            "y_true: 1\n",
            "y_predict: 1\n",
            "for once story of hope over the tragic reality our \u001b[31myouth\u001b[0m \u001b[31mface\u001b[0m rising draws one into scary and \u001b[31munfair\u001b[0m world and shows \u001b[31mthrough\u001b[0m beautiful \u001b[31mcolor\u001b[0m and moving music \u001b[31mhow\u001b[0m one man and his dedicated friends choose \u001b[31mnot\u001b[0m to accept that world and change it through action and art an entertaining interesting emotional beautiful film showed \u001b[31mthis\u001b[0m film to numerous high school students as well who all live in with poverty and and gun violence and they were with anderson the protagonist recommend this film to all ages \u001b[31mover\u001b[0m due to subtitles and \u001b[31msome\u001b[0m images of death from all backgrounds \n",
            "\n",
            "\n",
            "y_true: 1\n",
            "y_predict: 1\n",
            "people and sleeping around that he kept secret \u001b[31mfrom\u001b[0m most \u001b[31mpeople\u001b[0m he feels free \u001b[31mto\u001b[0m have an \u001b[31maffair\u001b[0m with quasi because \u001b[31mhe\u001b[0m kevin he figures out that he can fool some people with cards like \u001b[31mhotel\u001b[0m but it won get him out of those the of heaven are keeping track of him and everything he does after reading all the theories on though it seems like identity is \u001b[31mreminder\u001b[0m of the \u001b[31mdifferent\u001b[0m paths tony could ve taken in his life possibly along with the car joke involving that made no sense \u001b[31mto\u001b[0m me otherwise \u001b[31mat\u001b[0m that point my brain out \n",
            "\n",
            "\n",
            "y_true: 0\n",
            "y_predict: 0\n",
            "over again can remember how many times \u001b[31mhe\u001b[0m said the universe is made out of tiny little strings it like they were \u001b[31mtrying\u001b[0m to us into just \u001b[31maccepting\u001b[0m \u001b[31mare\u001b[0m the best thing since bread finally the show ended \u001b[31moff\u001b[0m with an \u001b[31munpleasant\u001b[0m sense of competition between and clearly biased towards this is supposed \u001b[31mto\u001b[0m be an educational program about quantum physics not about whether the us is better than europe or vice versa also felt \u001b[31mthat\u001b[0m \u001b[31mwas\u001b[0m part of the audiences need to see some conflict to remain interested please \u001b[31mgive\u001b[0m me little more credit than that overall thumbs down \n",
            "\n",
            "\n",
            "y_true: 0\n",
            "y_predict: 0\n",
            "the scenes involving joe \u001b[31mcharacter\u001b[0m in particular the scenes in the \u001b[31mterribly\u001b[0m clich \u001b[31mbut\u001b[0m still funny \u001b[31mrich\u001b[0m but \u001b[31mscrewed\u001b[0m up characters house where the story towards it final moments \u001b[31mcan\u001b[0m see how was great stage play and while the film makers did their best to translate this to celluloid it simply \u001b[31mdidn\u001b[0m work and while laughed out loud at some of scenes and one liners \u001b[31mthink\u001b[0m the first minutes \u001b[31mmy\u001b[0m senses and expectations to such degree \u001b[31mwould\u001b[0m have laughed at anything unless you re stuck for novelty coffee coaster don pick this up if you see it in bargain bucket \n",
            "\n",
            "\n"
          ]
        }
      ],
      "source": [
        "from termcolor import colored\n",
        "for idx, data in enumerate(X_test[:10]):\n",
        "    print('y_true: {:d}'.format(y_test[idx]))\n",
        "    print('y_predict: {:.0f}'.format(y_pred[idx]))\n",
        "    \n",
        "    # get the twenty most largest attention weights\n",
        "    large_weights_idx = np.argsort(attention_weights[idx])[::-1][:10]\n",
        "    \n",
        "    for _idx in range(len(data)):\n",
        "        word_idx = data[_idx]\n",
        "        if word_idx != 0:\n",
        "            if _idx in large_weights_idx:\n",
        "                print(colored(tokenizer.index_word[word_idx], 'red'), end=' ')\n",
        "            else:\n",
        "                print(tokenizer.index_word[word_idx], end=' ')\n",
        "    print(\"\\n\\n\")"
      ]
    }
  ],
  "metadata": {
    "accelerator": "GPU",
    "colab": {
      "name": "Lab13-1_110065512.ipynb",
      "provenance": [],
      "toc_visible": true
    },
    "interpreter": {
      "hash": "22c6df8416d99150f2220dbf1611e4fb62265fefa3bde7b85f317bcaabf8ed29"
    },
    "kernelspec": {
      "display_name": "Python 3.9.7 64-bit",
      "language": "python",
      "name": "python3"
    },
    "language_info": {
      "codemirror_mode": {
        "name": "ipython",
        "version": 3
      },
      "file_extension": ".py",
      "mimetype": "text/x-python",
      "name": "python",
      "nbconvert_exporter": "python",
      "pygments_lexer": "ipython3",
      "version": "3.9.7"
    },
    "orig_nbformat": 4
  },
  "nbformat": 4,
  "nbformat_minor": 0
}
