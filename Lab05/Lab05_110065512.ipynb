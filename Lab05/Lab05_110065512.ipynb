{
 "cells": [
  {
   "cell_type": "markdown",
   "metadata": {},
   "source": [
    "# Assignment"
   ]
  },
  {
   "cell_type": "code",
   "execution_count": 3,
   "metadata": {},
   "outputs": [],
   "source": [
    "%matplotlib inline\n",
    "from pylab import *\n",
    "from sklearn.model_selection import train_test_split\n",
    "import pandas as pd\n",
    "import numpy as np\n",
    "from sklearn.preprocessing import StandardScaler\n",
    "from sklearn.linear_model import Ridge, Lasso, RidgeClassifier\n",
    "import seaborn as sns"
   ]
  },
  {
   "cell_type": "code",
   "execution_count": 4,
   "metadata": {},
   "outputs": [
    {
     "name": "stdout",
     "output_type": "stream",
     "text": [
      "(85751, 8)\n",
      "Index(['PERIOD', 'GAME_CLOCK', 'SHOT_CLOCK', 'DRIBBLES', 'TOUCH_TIME',\n",
      "       'SHOT_DIST', 'PTS_TYPE', 'CLOSE_DEF_DIST'],\n",
      "      dtype='object')\n",
      "Index(['FGM'], dtype='object')\n"
     ]
    },
    {
     "data": {
      "text/html": [
       "<div>\n",
       "<style scoped>\n",
       "    .dataframe tbody tr th:only-of-type {\n",
       "        vertical-align: middle;\n",
       "    }\n",
       "\n",
       "    .dataframe tbody tr th {\n",
       "        vertical-align: top;\n",
       "    }\n",
       "\n",
       "    .dataframe thead th {\n",
       "        text-align: right;\n",
       "    }\n",
       "</style>\n",
       "<table border=\"1\" class=\"dataframe\">\n",
       "  <thead>\n",
       "    <tr style=\"text-align: right;\">\n",
       "      <th></th>\n",
       "      <th>PERIOD</th>\n",
       "      <th>GAME_CLOCK</th>\n",
       "      <th>SHOT_CLOCK</th>\n",
       "      <th>DRIBBLES</th>\n",
       "      <th>TOUCH_TIME</th>\n",
       "      <th>SHOT_DIST</th>\n",
       "      <th>PTS_TYPE</th>\n",
       "      <th>CLOSE_DEF_DIST</th>\n",
       "    </tr>\n",
       "  </thead>\n",
       "  <tbody>\n",
       "    <tr>\n",
       "      <th>0</th>\n",
       "      <td>1</td>\n",
       "      <td>358</td>\n",
       "      <td>2.4</td>\n",
       "      <td>0</td>\n",
       "      <td>3.2</td>\n",
       "      <td>20.6</td>\n",
       "      <td>2</td>\n",
       "      <td>4.5</td>\n",
       "    </tr>\n",
       "    <tr>\n",
       "      <th>1</th>\n",
       "      <td>1</td>\n",
       "      <td>585</td>\n",
       "      <td>8.3</td>\n",
       "      <td>0</td>\n",
       "      <td>1.2</td>\n",
       "      <td>3.0</td>\n",
       "      <td>2</td>\n",
       "      <td>0.5</td>\n",
       "    </tr>\n",
       "    <tr>\n",
       "      <th>2</th>\n",
       "      <td>1</td>\n",
       "      <td>540</td>\n",
       "      <td>19.9</td>\n",
       "      <td>0</td>\n",
       "      <td>0.6</td>\n",
       "      <td>3.5</td>\n",
       "      <td>2</td>\n",
       "      <td>3.2</td>\n",
       "    </tr>\n",
       "    <tr>\n",
       "      <th>3</th>\n",
       "      <td>1</td>\n",
       "      <td>392</td>\n",
       "      <td>9.0</td>\n",
       "      <td>0</td>\n",
       "      <td>0.9</td>\n",
       "      <td>21.1</td>\n",
       "      <td>2</td>\n",
       "      <td>4.9</td>\n",
       "    </tr>\n",
       "    <tr>\n",
       "      <th>4</th>\n",
       "      <td>3</td>\n",
       "      <td>401</td>\n",
       "      <td>22.7</td>\n",
       "      <td>0</td>\n",
       "      <td>0.7</td>\n",
       "      <td>4.1</td>\n",
       "      <td>2</td>\n",
       "      <td>2.9</td>\n",
       "    </tr>\n",
       "  </tbody>\n",
       "</table>\n",
       "</div>"
      ],
      "text/plain": [
       "   PERIOD  GAME_CLOCK  SHOT_CLOCK  DRIBBLES  TOUCH_TIME  SHOT_DIST  PTS_TYPE  \\\n",
       "0       1         358         2.4         0         3.2       20.6         2   \n",
       "1       1         585         8.3         0         1.2        3.0         2   \n",
       "2       1         540        19.9         0         0.6        3.5         2   \n",
       "3       1         392         9.0         0         0.9       21.1         2   \n",
       "4       3         401        22.7         0         0.7        4.1         2   \n",
       "\n",
       "   CLOSE_DEF_DIST  \n",
       "0             4.5  \n",
       "1             0.5  \n",
       "2             3.2  \n",
       "3             4.9  \n",
       "4             2.9  "
      ]
     },
     "execution_count": 4,
     "metadata": {},
     "output_type": "execute_result"
    }
   ],
   "source": [
    "X = pd.read_csv('./dataset/X_train.csv')\n",
    "y = pd.read_csv('./dataset/y_train.csv')\n",
    "\n",
    "X_test = pd.read_csv('./dataset/X_test.csv')\n",
    "print(X.shape)\n",
    "print(X.columns)\n",
    "print(y.columns)\n",
    "X.head()"
   ]
  },
  {
   "cell_type": "code",
   "execution_count": 5,
   "metadata": {},
   "outputs": [],
   "source": [
    "# Preprocess data\n",
    "sc_x = StandardScaler()\n",
    "X_std = sc_x.fit_transform(X)\n",
    "X_std_test = sc_x.fit_transform(X_test)\n",
    "X_train, X_val, y_train, y_val = train_test_split(\n",
    "    X_std, y, test_size=0.3, random_state=0)"
   ]
  },
  {
   "cell_type": "code",
   "execution_count": 6,
   "metadata": {},
   "outputs": [
    {
     "name": "stdout",
     "output_type": "stream",
     "text": [
      "[Alpha = 0]\n",
      "\tTraining:0.6080, Validation:0.6097\n",
      "[Alpha = 1]\n",
      "\tTraining:0.6080, Validation:0.6097\n",
      "[Alpha = 10]\n",
      "\tTraining:0.6080, Validation:0.6097\n",
      "[Alpha = 100]\n",
      "\tTraining:0.6078, Validation:0.6095\n",
      "[Alpha = 1000]\n",
      "\tTraining:0.6082, Validation:0.6097\n"
     ]
    }
   ],
   "source": [
    "# Directly apply ridge classifier to raw data w/o any pre-processing\n",
    "for a in [0, 1, 10, 100, 1000]:\n",
    "    clf = RidgeClassifier(alpha=a)\n",
    "    clf.fit(X_train, y_train.values.ravel())\n",
    "    print(f\"[Alpha = {a}]\")\n",
    "    print(f\"\\tTraining:{clf.score(X_train, y_train):.4f}, Validation:{clf.score(X_val, y_val):.4f}\")"
   ]
  },
  {
   "cell_type": "code",
   "execution_count": 7,
   "metadata": {},
   "outputs": [
    {
     "data": {
      "image/png": "[encoded data removed]",
      "text/plain": [
       "<Figure size 1008x504 with 8 Axes>"
      ]
     },
     "metadata": {
      "needs_background": "light"
     },
     "output_type": "display_data"
    }
   ],
   "source": [
    "# Show pairwise attribute relation graph\n",
    "\n",
    "fig, axes = plt.subplots(2, 4, figsize=(14,7))\n",
    "for r in range(2):\n",
    "    for c in range(4):\n",
    "        axes[r][c].scatter(X[X.columns[r*4+c]], y)\n",
    "        axes[r][c].set_title(X.columns[r*4+c])\n",
    "\n",
    "plt.tight_layout()\n",
    "plt.show()"
   ]
  },
  {
   "cell_type": "markdown",
   "metadata": {},
   "source": [
    "From above graph, I thought that CLOSE_DEF_DIST has relatively strong relation with accuracy.<br>\n",
    "As for discrete attribute and relatively weak relation like DRIBBLES and SHOT_DIST, \n",
    "I conducted the check of numerical relation below."
   ]
  },
  {
   "cell_type": "code",
   "execution_count": 8,
   "metadata": {},
   "outputs": [
    {
     "name": "stdout",
     "output_type": "stream",
     "text": [
      "[Period 1]\n",
      "\tNumber of data:22617\n",
      "\tAccuracy: 0.4605\n",
      "[Period 2]\n",
      "\tNumber of data:21139\n",
      "\tAccuracy: 0.4546\n",
      "[Period 3]\n",
      "\tNumber of data:21694\n",
      "\tAccuracy: 0.4614\n",
      "[Period 4]\n",
      "\tNumber of data:19625\n",
      "\tAccuracy: 0.4387\n",
      "[Period 5]\n",
      "\tNumber of data:550\n",
      "\tAccuracy: 0.3855\n",
      "[Period 6]\n",
      "\tNumber of data:102\n",
      "\tAccuracy: 0.4314\n",
      "[Period 7]\n",
      "\tNumber of data:24\n",
      "\tAccuracy: 0.4167\n"
     ]
    }
   ],
   "source": [
    "# Check the numerical relation b/t period and shooting accuracy\n",
    "\n",
    "for i in range(1, 8):\n",
    "    tmp = np.where(X['PERIOD']==i)\n",
    "    print(f\"[Period {i}]\")\n",
    "    print(f\"\\tNumber of data:{len(tmp[0])}\")\n",
    "    print(f\"\\tAccuracy: {np.sum(y.values[tmp[0]])/len(tmp[0]):.4f}\")"
   ]
  },
  {
   "cell_type": "code",
   "execution_count": 9,
   "metadata": {},
   "outputs": [
    {
     "name": "stdout",
     "output_type": "stream",
     "text": [
      "[Pts type 2]\n",
      "\tNumber of data:63626\n",
      "\tAccuracy: 0.4873\n",
      "[Pts type 3]\n",
      "\tNumber of data:22125\n",
      "\tAccuracy: 0.3573\n"
     ]
    }
   ],
   "source": [
    "# Check the numerical relation b/t point type and shooting accuracy\n",
    "\n",
    "for i in range(2, 4):\n",
    "    tmp = np.where(X['PTS_TYPE']==i)\n",
    "    print(f\"[Pts type {i}]\")\n",
    "    print(f\"\\tNumber of data:{len(tmp[0])}\")\n",
    "    print(f\"\\tAccuracy: {np.sum(y.values[tmp[0]])/len(tmp[0]):.4f}\")"
   ]
  },
  {
   "cell_type": "markdown",
   "metadata": {},
   "source": [
    "It seems that there is no strong connection b/t discrete attribute, PERIOD and PTS_TYPE, and accuracy."
   ]
  },
  {
   "cell_type": "code",
   "execution_count": 10,
   "metadata": {},
   "outputs": [
    {
     "name": "stdout",
     "output_type": "stream",
     "text": [
      "[Shooting distance in 0 ~ 10]\n",
      "\tNumber of data:37988\n",
      "\tAccuracy: 0.5444\n",
      "[Shooting distance in 10 ~ 20]\n",
      "\tNumber of data:19582\n",
      "\tAccuracy: 0.4123\n",
      "[Shooting distance in 20 ~ 30]\n",
      "\tNumber of data:28070\n",
      "\tAccuracy: 0.3611\n",
      "[Shooting distance in 30 ~ 40]\n",
      "\tNumber of data:104\n",
      "\tAccuracy: 0.1923\n",
      "[Shooting distance in 40 ~ 50]\n",
      "\tNumber of data:7\n",
      "\tAccuracy: 0.0000\n"
     ]
    },
    {
     "data": {
      "text/plain": [
       "Text(0, 0.5, 'Acc')"
      ]
     },
     "execution_count": 10,
     "metadata": {},
     "output_type": "execute_result"
    },
    {
     "data": {
      "image/png": "[encoded data removed]",
      "text/plain": [
       "<Figure size 432x288 with 1 Axes>"
      ]
     },
     "metadata": {
      "needs_background": "light"
     },
     "output_type": "display_data"
    }
   ],
   "source": [
    "# Check the numerical relation b/t SHOT_DIST and acc.\n",
    "acc=[]\n",
    "\n",
    "for i in range(5):\n",
    "    tmp = np.where((X['SHOT_DIST'] >= 10 * i) & (X['SHOT_DIST'] < 10 * (i + 1)))\n",
    "    acc.append(np.sum(y.values[tmp[0]])/len(tmp[0]))\n",
    "    print(f\"[Shooting distance in {10 * i} ~ {10 * (i + 1)}]\")\n",
    "    print(f\"\\tNumber of data:{len(tmp[0])}\")\n",
    "    print(f\"\\tAccuracy: {acc[len(acc)-1]:.4f}\")\n",
    "\n",
    "plt.plot(range(10, 60, 10), acc)\n",
    "plt.xlabel(\"SHOT_DIST\")\n",
    "plt.ylabel(\"Acc\")"
   ]
  },
  {
   "cell_type": "code",
   "execution_count": 11,
   "metadata": {},
   "outputs": [
    {
     "name": "stdout",
     "output_type": "stream",
     "text": [
      "[Dribbles in 0 ~ 10]\n",
      "\tNumber of data:37988\n",
      "\tAccuracy: 0.5444\n",
      "[Dribbles in 10 ~ 20]\n",
      "\tNumber of data:3171\n",
      "\tAccuracy: 0.4440\n",
      "[Dribbles in 20 ~ 30]\n",
      "\tNumber of data:387\n",
      "\tAccuracy: 0.4057\n",
      "[Dribbles in 30 ~ 40]\n",
      "\tNumber of data:8\n",
      "\tAccuracy: 0.1250\n"
     ]
    }
   ],
   "source": [
    "# Check the numerical relation b/t DRIBBLES and acc.\n",
    "\n",
    "for i in range(4):\n",
    "    tmp = np.where((X['DRIBBLES'] >= 10 * i) & (X['SHOT_DIST'] < 10 * (i + 1)))\n",
    "    print(f\"[Dribbles in {10 * i} ~ {10 * (i + 1)}]\")\n",
    "    print(f\"\\tNumber of data:{len(tmp[0])}\")\n",
    "    print(f\"\\tAccuracy: {np.sum(y.values[tmp[0]])/len(tmp[0]):.4f}\")"
   ]
  },
  {
   "cell_type": "markdown",
   "metadata": {},
   "source": [
    "As for the attributes with continous value, SHOT_DIST and DRIBBLES, there exists a descent trend when value increase.<br>\n",
    "So I select 'CLOSE_DEF_DIST', 'SHOT_DIST', and 'DRIBBLES' as my feature."
   ]
  },
  {
   "cell_type": "markdown",
   "metadata": {},
   "source": [
    "## Test the model w/ only 3 features: 'CLOSE_DEF_DIST', 'SHOT_DIST', and 'DRIBBLES'\n",
    "I found these 3 features by plotting their relationships and test the numerical calculation."
   ]
  },
  {
   "cell_type": "code",
   "execution_count": 12,
   "metadata": {},
   "outputs": [
    {
     "name": "stdout",
     "output_type": "stream",
     "text": [
      "[Alpha = 0]\n",
      "\tTrain:0.6057, Validation:0.6037\n",
      "[Alpha = 1]\n",
      "\tTrain:0.6057, Validation:0.6038\n",
      "[Alpha = 10]\n",
      "\tTrain:0.6057, Validation:0.6038\n",
      "[Alpha = 100]\n",
      "\tTrain:0.6057, Validation:0.6039\n",
      "[Alpha = 1000]\n",
      "\tTrain:0.6063, Validation:0.6044\n"
     ]
    }
   ],
   "source": [
    "X_sel = X.drop(['PERIOD', 'GAME_CLOCK', 'SHOT_CLOCK', 'TOUCH_TIME', 'PTS_TYPE'], axis=1)\n",
    "\n",
    "X_sel_std = sc_x.fit_transform(X_sel)\n",
    "# X_std_test = sc_x.fit_transform(X_test)\n",
    "X_sel_train, X_sel_val, y_sel_train, y_sel_val = train_test_split(\n",
    "    X_sel_std, y, test_size=0.3, random_state=0)\n",
    "\n",
    "for a in [0, 1, 10, 100, 1000]:\n",
    "    clf = RidgeClassifier(alpha=a)\n",
    "    clf.fit(X_sel_train, y_sel_train.values.ravel())\n",
    "    print(f\"[Alpha = {a}]\")\n",
    "    print(f\"\\tTrain:{clf.score(X_sel_train, y_sel_train):.4f}, Validation:{clf.score(X_sel_val, y_sel_val):.4f}\")"
   ]
  },
  {
   "cell_type": "markdown",
   "metadata": {},
   "source": [
    "The result is slicely worse than X with full attribute."
   ]
  },
  {
   "cell_type": "markdown",
   "metadata": {},
   "source": [
    "## Try decision tree and random forest"
   ]
  },
  {
   "cell_type": "code",
   "execution_count": 13,
   "metadata": {},
   "outputs": [],
   "source": [
    "from sklearn.tree import DecisionTreeClassifier\n",
    "from sklearn.ensemble import RandomForestClassifier\n",
    "from sklearn.metrics import accuracy_score"
   ]
  },
  {
   "cell_type": "code",
   "execution_count": 14,
   "metadata": {},
   "outputs": [
    {
     "name": "stdout",
     "output_type": "stream",
     "text": [
      "[Tree depth = 2]\n",
      "\tAcc. on training: 0.61\n",
      "\tAcc. on validation: 0.60\n",
      "[Tree depth = 6]\n",
      "\tAcc. on training: 0.62\n",
      "\tAcc. on validation: 0.61\n",
      "[Tree depth = 10]\n",
      "\tAcc. on training: 0.64\n",
      "\tAcc. on validation: 0.61\n",
      "[Tree depth = 14]\n",
      "\tAcc. on training: 0.68\n",
      "\tAcc. on validation: 0.59\n",
      "[Tree depth = 18]\n",
      "\tAcc. on training: 0.75\n",
      "\tAcc. on validation: 0.57\n",
      "[Tree depth = 22]\n",
      "\tAcc. on training: 0.82\n",
      "\tAcc. on validation: 0.56\n",
      "[Tree depth = 26]\n",
      "\tAcc. on training: 0.88\n",
      "\tAcc. on validation: 0.56\n"
     ]
    }
   ],
   "source": [
    "# Decision tree\n",
    "\n",
    "for depth in range(2, 30, 4):\n",
    "    tree = DecisionTreeClassifier(criterion='entropy', \n",
    "                                max_depth=depth, \n",
    "                                random_state=0)\n",
    "    tree.fit(X_train, y_train)\n",
    "    y_pred_train = tree.predict(X_train)\n",
    "    y_pred = tree.predict(X_val)\n",
    "    print(f\"[Tree depth = {depth}]\")\n",
    "    print('\\tAcc. on training: %.2f' % accuracy_score(y_train, y_pred_train))\n",
    "    print('\\tAcc. on validation: %.2f' % accuracy_score(y_val, y_pred))"
   ]
  },
  {
   "cell_type": "code",
   "execution_count": 15,
   "metadata": {},
   "outputs": [
    {
     "name": "stdout",
     "output_type": "stream",
     "text": [
      "[Number of estimators = 50]\n",
      "\tAcc. on training: 1.00\n",
      "\tAcc. on validation: 0.59\n",
      "[Number of estimators = 100]\n",
      "\tAcc. on training: 1.00\n",
      "\tAcc. on validation: 0.60\n",
      "[Number of estimators = 150]\n",
      "\tAcc. on training: 1.00\n",
      "\tAcc. on validation: 0.60\n",
      "[Number of estimators = 200]\n",
      "\tAcc. on training: 1.00\n",
      "\tAcc. on validation: 0.60\n",
      "[Number of estimators = 250]\n",
      "\tAcc. on training: 1.00\n",
      "\tAcc. on validation: 0.60\n",
      "[Number of estimators = 300]\n",
      "\tAcc. on training: 1.00\n",
      "\tAcc. on validation: 0.60\n"
     ]
    }
   ],
   "source": [
    "# Random forest\n",
    "for n in range(50, 301, 50):\n",
    "    forest = RandomForestClassifier(criterion='entropy',\n",
    "                                    n_estimators=n, \n",
    "                                    random_state=1,\n",
    "                                    n_jobs=4)\n",
    "    forest.fit(X_train, y_train.values.ravel())\n",
    "\n",
    "    y_pred_train = forest.predict(X_train)\n",
    "    y_pred = forest.predict(X_val)\n",
    "    print(f\"[Number of estimators = {n}]\")\n",
    "    print('\\tAcc. on training: %.2f' % accuracy_score(y_train, y_pred_train))\n",
    "    print('\\tAcc. on validation: %.2f' % accuracy_score(y_val, y_pred))"
   ]
  },
  {
   "cell_type": "markdown",
   "metadata": {},
   "source": [
    "The accuracy of Decision tree and random forest is about 60% to 61%.<br>\n",
    "There is no obvious imporvment when incresing the value of hyperpoarameters, i.e., \n",
    "performance is overfit in decision tree and saturated in random forest."
   ]
  },
  {
   "cell_type": "markdown",
   "metadata": {},
   "source": [
    "## Error curve\n",
    "I choose decision tree model as my best model, and increase the depth of tree to see the error against model complexity."
   ]
  },
  {
   "cell_type": "code",
   "execution_count": 17,
   "metadata": {},
   "outputs": [
    {
     "data": {
      "image/png": "[encoded data removed]",
      "text/plain": [
       "<Figure size 432x288 with 1 Axes>"
      ]
     },
     "metadata": {
      "needs_background": "light"
     },
     "output_type": "display_data"
    }
   ],
   "source": [
    "err_train = []\n",
    "err_val = []\n",
    "MAX_DEPTH = 50\n",
    "\n",
    "for depth in range(1, MAX_DEPTH):\n",
    "    tree = DecisionTreeClassifier(criterion='entropy', \n",
    "                                max_depth=depth, \n",
    "                                random_state=0)\n",
    "    tree.fit(X_train, y_train)\n",
    "    y_pred_train = tree.predict(X_train)\n",
    "    y_pred = tree.predict(X_val)\n",
    "    err_train.append(1 - accuracy_score(y_train, y_pred_train))\n",
    "    err_val.append(1 - accuracy_score(y_val, y_pred))\n",
    "\n",
    "plt.plot(range(1, MAX_DEPTH), err_train, label = 'Training error', color = 'blue', linewidth = 2)\n",
    "plt.plot(range(1, MAX_DEPTH), err_val, label = 'Validation error', color = 'red', linewidth = 2)\n",
    "plt.legend(loc='upper right')\n",
    "plt.xlabel('Model complexity (max depth of tree)')\n",
    "plt.ylabel('Err(1-acc.)')\n",
    "plt.tight_layout()\n",
    "plt.show()"
   ]
  },
  {
   "cell_type": "markdown",
   "metadata": {},
   "source": [
    "Obviously, when depth of tree increases, the model becomes overfitting.<br>\n",
    "The training error gradually decreases while the validation error soars."
   ]
  },
  {
   "cell_type": "markdown",
   "metadata": {},
   "source": [
    "## Predict on real testing set\n",
    "Best model: Decision tree with max depth=8"
   ]
  },
  {
   "cell_type": "code",
   "execution_count": 32,
   "metadata": {},
   "outputs": [],
   "source": [
    "sc_x = StandardScaler()\n",
    "X_std = sc_x.fit_transform(X)\n",
    "X_std_test = sc_x.fit_transform(X_test)\n",
    "\n",
    "tree = DecisionTreeClassifier(criterion='entropy', \n",
    "                            max_depth=8, \n",
    "                            random_state=0)\n",
    "tree.fit(pd.DataFrame(X_std), y)\n",
    "y_pred = tree.predict(pd.DataFrame(X_std_test))\n",
    "pd.DataFrame(y_pred).to_csv('y_pred.csv')"
   ]
  },
  {
   "cell_type": "markdown",
   "metadata": {},
   "source": [
    "# Brief Report\n",
    "What I have done in this lab:\n",
    "- I try to train the model first w/t any operation to overview whole situation.\n",
    "- Then plot the relationship among all the attributes.\n",
    "- Select stong relation attribute and do numerical test further.\n",
    "- Train on a model w/ selected features.\n",
    "- Try other classifiers such as decision tree and random forest and tune hyperparameters.\n",
    "- Plot the error curve and test on testing dataset with my best model.\n",
    "- Write a brief report right here."
   ]
  }
 ],
 "metadata": {
  "interpreter": {
   "hash": "22c6df8416d99150f2220dbf1611e4fb62265fefa3bde7b85f317bcaabf8ed29"
  },
  "kernelspec": {
   "display_name": "Python 3.9.7 64-bit",
   "name": "python3"
  },
  "language_info": {
   "codemirror_mode": {
    "name": "ipython",
    "version": 3
   },
   "file_extension": ".py",
   "mimetype": "text/x-python",
   "name": "python",
   "nbconvert_exporter": "python",
   "pygments_lexer": "ipython3",
   "version": "3.9.7"
  },
  "orig_nbformat": 4
 },
 "nbformat": 4,
 "nbformat_minor": 2
}
