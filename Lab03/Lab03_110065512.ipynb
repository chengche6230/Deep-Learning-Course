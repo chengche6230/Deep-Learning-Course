{
 "cells": [
  {
   "cell_type": "markdown",
   "source": [
    "# Assigment\r\n",
    "We try to make predition from another dataset breast cancer wisconsin. But there are too many features in this dataset. Please try to improve accuracy per feature.\r\n",
    "\r\n",
    "HINT:\r\n",
    "1. You can improve the ratio by picking out several important features.\r\n",
    "2. The ratio can be improved from 0.03 up to 0.44."
   ],
   "metadata": {}
  },
  {
   "cell_type": "code",
   "execution_count": 13,
   "source": [
    "from sklearn.tree import DecisionTreeClassifier\r\n",
    "from sklearn.model_selection import train_test_split\r\n",
    "from sklearn.datasets import load_breast_cancer\r\n",
    "import pandas as pd\r\n",
    "import numpy as np\r\n",
    "from sklearn.metrics import accuracy_score\r\n",
    "from sklearn.ensemble import RandomForestClassifier\r\n",
    "from sklearn.feature_selection import SelectFromModel"
   ],
   "outputs": [],
   "metadata": {}
  },
  {
   "cell_type": "code",
   "execution_count": 47,
   "source": [
    "# load the breast_cancer dataset\r\n",
    "init_data = load_breast_cancer()\r\n",
    "(X, y) = load_breast_cancer(return_X_y=True)\r\n",
    "X = pd.DataFrame(data=X, columns=init_data['feature_names'])\r\n",
    "# y = pd.DataFrame(data=y, columns=['label'])\r\n",
    "\r\n",
    "# split X into training and testing sets\r\n",
    "X_train, X_test, y_train, y_test = train_test_split(X, y, test_size=0.3, random_state=0)\r\n",
    "\r\n",
    "# Train a RandomForestClassifier as model \r\n",
    "forest = RandomForestClassifier(criterion='entropy',\r\n",
    "                                n_estimators=200, \r\n",
    "                                random_state=1,\r\n",
    "                                n_jobs=2)\r\n",
    "forest.fit(X_train, y_train)\r\n",
    "\r\n",
    "y_pred = forest.predict(X_test)\r\n",
    "print('Original Accuracy: %.2f' % accuracy_score(y_test, y_pred))\r\n",
    "print('Original Accuracy per feature: %.2f' % (accuracy_score(y_test, y_pred)/X.shape[1]))\r\n",
    "\r\n",
    "\r\n",
    "# Feature Selection\r\n",
    "features = 2 # Hyper-parameter\r\n",
    "importances = forest.feature_importances_\r\n",
    "indices = np.argsort(importances)[::-1]\r\n",
    "Z = X[X.columns.values[indices[:features]]].values\r\n",
    "\r\n",
    "Z_train, Z_test, y_train, y_test = train_test_split(Z, y, test_size=0.3, random_state=0)\r\n",
    "Z_forest = RandomForestClassifier(criterion='entropy',\r\n",
    "                                n_estimators=200, \r\n",
    "                                random_state=1,\r\n",
    "                                n_jobs=2)\r\n",
    "Z_forest.fit(Z_train,y_train)\r\n",
    "\r\n",
    "y_pred = Z_forest.predict(Z_test)\r\n",
    "print('\\nAfter selection, accuracy: %.2f' % accuracy_score(y_test, y_pred))\r\n",
    "print('After selection, accuracy per feature: %.2f' % (accuracy_score(y_test, y_pred)/Z.shape[1]))"
   ],
   "outputs": [
    {
     "output_type": "stream",
     "name": "stdout",
     "text": [
      "Original Accuracy: 0.98\n",
      "Original Accuracy per feature: 0.03\n",
      "\n",
      "After selection, accuracy: 0.89\n",
      "After selection, accuracy per feature: 0.44\n"
     ]
    }
   ],
   "metadata": {}
  }
 ],
 "metadata": {
  "orig_nbformat": 4,
  "language_info": {
   "name": "python",
   "version": "3.9.7",
   "mimetype": "text/x-python",
   "codemirror_mode": {
    "name": "ipython",
    "version": 3
   },
   "pygments_lexer": "ipython3",
   "nbconvert_exporter": "python",
   "file_extension": ".py"
  },
  "kernelspec": {
   "name": "python3",
   "display_name": "Python 3.9.7 64-bit"
  },
  "interpreter": {
   "hash": "22c6df8416d99150f2220dbf1611e4fb62265fefa3bde7b85f317bcaabf8ed29"
  }
 },
 "nbformat": 4,
 "nbformat_minor": 2
}