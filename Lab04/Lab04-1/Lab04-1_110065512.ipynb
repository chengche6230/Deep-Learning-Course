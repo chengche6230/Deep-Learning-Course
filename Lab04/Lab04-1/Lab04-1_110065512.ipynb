{
 "cells": [
  {
   "cell_type": "markdown",
   "metadata": {},
   "source": [
    "# Assignment\n",
    "Implement the Adaline with SGD which can set different batch_size ( M ) as parameter. Then, use the Iris dataset to fit your model with 3 different  M  (including  M=1 ) and fixed learning rate  η  and print out the accuracy of each model. Last, plot the cost against the number of epochs using different  M  in one figure."
   ]
  },
  {
   "cell_type": "code",
   "execution_count": 79,
   "metadata": {},
   "outputs": [
    {
     "data": {
      "text/html": [
       "<div>\n",
       "<style scoped>\n",
       "    .dataframe tbody tr th:only-of-type {\n",
       "        vertical-align: middle;\n",
       "    }\n",
       "\n",
       "    .dataframe tbody tr th {\n",
       "        vertical-align: top;\n",
       "    }\n",
       "\n",
       "    .dataframe thead th {\n",
       "        text-align: right;\n",
       "    }\n",
       "</style>\n",
       "<table border=\"1\" class=\"dataframe\">\n",
       "  <thead>\n",
       "    <tr style=\"text-align: right;\">\n",
       "      <th></th>\n",
       "      <th>Sepal length</th>\n",
       "      <th>Sepal width</th>\n",
       "      <th>Petal length</th>\n",
       "      <th>Petal width</th>\n",
       "      <th>Class label</th>\n",
       "    </tr>\n",
       "  </thead>\n",
       "  <tbody>\n",
       "    <tr>\n",
       "      <th>0</th>\n",
       "      <td>5.1</td>\n",
       "      <td>3.5</td>\n",
       "      <td>1.4</td>\n",
       "      <td>0.2</td>\n",
       "      <td>Iris-setosa</td>\n",
       "    </tr>\n",
       "    <tr>\n",
       "      <th>1</th>\n",
       "      <td>4.9</td>\n",
       "      <td>3.0</td>\n",
       "      <td>1.4</td>\n",
       "      <td>0.2</td>\n",
       "      <td>Iris-setosa</td>\n",
       "    </tr>\n",
       "    <tr>\n",
       "      <th>2</th>\n",
       "      <td>4.7</td>\n",
       "      <td>3.2</td>\n",
       "      <td>1.3</td>\n",
       "      <td>0.2</td>\n",
       "      <td>Iris-setosa</td>\n",
       "    </tr>\n",
       "    <tr>\n",
       "      <th>3</th>\n",
       "      <td>4.6</td>\n",
       "      <td>3.1</td>\n",
       "      <td>1.5</td>\n",
       "      <td>0.2</td>\n",
       "      <td>Iris-setosa</td>\n",
       "    </tr>\n",
       "    <tr>\n",
       "      <th>4</th>\n",
       "      <td>5.0</td>\n",
       "      <td>3.6</td>\n",
       "      <td>1.4</td>\n",
       "      <td>0.2</td>\n",
       "      <td>Iris-setosa</td>\n",
       "    </tr>\n",
       "  </tbody>\n",
       "</table>\n",
       "</div>"
      ],
      "text/plain": [
       "   Sepal length  Sepal width  Petal length  Petal width  Class label\n",
       "0           5.1          3.5           1.4          0.2  Iris-setosa\n",
       "1           4.9          3.0           1.4          0.2  Iris-setosa\n",
       "2           4.7          3.2           1.3          0.2  Iris-setosa\n",
       "3           4.6          3.1           1.5          0.2  Iris-setosa\n",
       "4           5.0          3.6           1.4          0.2  Iris-setosa"
      ]
     },
     "metadata": {},
     "output_type": "display_data"
    },
    {
     "name": "stdout",
     "output_type": "stream",
     "text": [
      "#Training data points: 80\n",
      "#Testing data points: 20\n",
      "Class labels: [-1  1]\n"
     ]
    }
   ],
   "source": [
    "import pandas as pd\n",
    "import numpy as np\n",
    "seed = np.random.seed\n",
    "import matplotlib.pyplot as plt\n",
    "from sklearn.model_selection import train_test_split\n",
    "from sklearn.preprocessing import StandardScaler\n",
    "from sklearn.metrics import accuracy_score\n",
    "from IPython.display import display\n",
    "\n",
    "df = pd.read_csv('https://archive.ics.uci.edu/ml/'\n",
    "        'machine-learning-databases/iris/iris.data', header=None)\n",
    "df.columns = ['Sepal length', 'Sepal width', 'Petal length', 'Petal width', 'Class label']\n",
    "display(df.head())\n",
    "\n",
    "X = df[['Petal length', 'Petal width']].values\n",
    "y = pd.factorize(df['Class label'])[0]\n",
    "\n",
    "# discard exmaples in the first class\n",
    "X = X[50:150]\n",
    "y = np.where(y[50:150] == 2, -1, y[50:150])\n",
    "\n",
    "X_train, X_test, y_train, y_test = train_test_split(X, y, test_size=0.2, random_state=1)\n",
    "\n",
    "sc = StandardScaler()\n",
    "sc.fit(X_train)\n",
    "X_train_std = sc.transform(X_train)\n",
    "X_test_std = sc.transform(X_test)\n",
    "\n",
    "print('#Training data points: %d' % X_train.shape[0])\n",
    "print('#Testing data points: %d' % X_test.shape[0])\n",
    "print('Class labels: %s' % np.unique(y))"
   ]
  },
  {
   "cell_type": "code",
   "execution_count": 113,
   "metadata": {},
   "outputs": [],
   "source": [
    "class AdalineSGD(object):\n",
    "    def __init__(self, batch_size, eta=0.01, n_iter=50, shuffle=True, random_state=1):\n",
    "        self.M = batch_size\n",
    "        self.eta = eta\n",
    "        self.n_iter = n_iter\n",
    "        self.w_initialized = False\n",
    "        self.shuffle = shuffle\n",
    "        if random_state : seed(random_state)\n",
    "        \n",
    "    def fit(self, X, y):\n",
    "        self._initialize_weights(X.shape[1])\n",
    "        self.cost_ = []\n",
    "        for i in range(self.n_iter):\n",
    "            if self.shuffle:\n",
    "                X, y = self._shuffle(X, y)\n",
    "            cost = []\n",
    "            for j in range(len(X) // self.M):\n",
    "                cost.append(self._update_weights(X[self.M * j: self.M * (j + 1)], y[self.M * j: self.M*(j + 1)]))\n",
    "            avg_cost = sum(sum(cost)) / len(y)\n",
    "            self.cost_.append(avg_cost)\n",
    "        return self\n",
    "\n",
    "    def _shuffle(self, X, y):\n",
    "        r = np.random.permutation(len(y))\n",
    "        return X[r], y[r]\n",
    "    \n",
    "    def _initialize_weights(self, m):\n",
    "        self.w_ = np.random.normal(loc=0.0, scale=0.01, size=1 + m)\n",
    "        self.w_initialized = True\n",
    "        \n",
    "    def _update_weights(self, xi, yi):\n",
    "        zi = np.hstack((np.ones((xi.shape[0], 1)),xi))\n",
    "        output = self.activation(zi)\n",
    "        \n",
    "        # Cost function\n",
    "        error = (yi - output)\n",
    "        cost = 0.5 * error**2\n",
    "\n",
    "        # Update rule\n",
    "        self.w_ += self.eta * zi.T.dot(error)\n",
    "        \n",
    "        return cost\n",
    "    \n",
    "    def net_input(self, X):\n",
    "        return X.dot(self.w_)\n",
    "\n",
    "    def activation(self, X):\n",
    "        return self.net_input(X)\n",
    "\n",
    "    def predict(self, X):\n",
    "        Z = np.hstack((np.ones((X.shape[0], 1)), X))\n",
    "        return np.where(self.activation(Z) >= 0.0, 1, -1)"
   ]
  },
  {
   "cell_type": "code",
   "execution_count": 114,
   "metadata": {},
   "outputs": [
    {
     "name": "stdout",
     "output_type": "stream",
     "text": [
      "M:  1, Accuracy: 0.85\n",
      "M: 20, Accuracy: 0.85\n",
      "M: 80, Accuracy: 0.85\n"
     ]
    }
   ],
   "source": [
    "# Hyper-parameters\n",
    "M = [1, 20, 80]\n",
    "eta = 0.01\n",
    "\n",
    "cost = []\n",
    "\n",
    "# Fit the model with different M\n",
    "for i in range(3):\n",
    "    adas = AdalineSGD(batch_size=M[i], eta=eta, n_iter=20)\n",
    "    adas.fit(X_train_std, y_train)\n",
    "    cost.append(adas.cost_)\n",
    "\n",
    "    # Testing\n",
    "    y_pred = adas.predict( X_test_std)\n",
    "    # print('Misclassified samples: %d' % (y_test != y_pred).sum())\n",
    "    print(f'M: {M[i]:2d}, Accuracy: {accuracy_score(y_test, y_pred):.2f}')"
   ]
  },
  {
   "cell_type": "code",
   "execution_count": 116,
   "metadata": {},
   "outputs": [
    {
     "data": {
      "image/png": "[encoded data removed]",
      "text/plain": [
       "<Figure size 432x288 with 1 Axes>"
      ]
     },
     "metadata": {
      "needs_background": "light"
     },
     "output_type": "display_data"
    }
   ],
   "source": [
    "# Plot the cost with different M\n",
    "for i in range(3):\n",
    "    plt.plot(range(1, len(cost[i]) + 1), cost[i],\n",
    "                marker='o', label=f'M={M[i]}')\n",
    "plt.xlabel('Epochs')\n",
    "plt.ylabel('Sum-squared-error')\n",
    "plt.legend(loc='upper right')\n",
    "\n",
    "plt.tight_layout()\n",
    "plt.savefig('./Lab04-1_110065512.png', dpi=300)\n",
    "plt.show()"
   ]
  }
 ],
 "metadata": {
  "interpreter": {
   "hash": "22c6df8416d99150f2220dbf1611e4fb62265fefa3bde7b85f317bcaabf8ed29"
  },
  "kernelspec": {
   "display_name": "Python 3.9.7 64-bit",
   "name": "python3"
  },
  "language_info": {
   "codemirror_mode": {
    "name": "ipython",
    "version": 3
   },
   "file_extension": ".py",
   "mimetype": "text/x-python",
   "name": "python",
   "nbconvert_exporter": "python",
   "pygments_lexer": "ipython3",
   "version": "3.9.7"
  },
  "orig_nbformat": 4
 },
 "nbformat": 4,
 "nbformat_minor": 2
}
